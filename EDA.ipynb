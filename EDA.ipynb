{
 "cells": [
  {
   "cell_type": "code",
   "execution_count": 1,
   "metadata": {},
   "outputs": [
    {
     "name": "stdout",
     "output_type": "stream",
     "text": [
      "         Date      Time                                  PU_Address  \\\n",
      "0  07/01/2014  07:15 AM  Brooklyn Museum, 200 Eastern Pkwy., BK NY;   \n",
      "1  07/01/2014  07:30 AM              33 Robert Dr., Short Hills NJ;   \n",
      "2  07/01/2014  08:00 AM                    60 Glenmore Ave., BK NY;   \n",
      "3  07/01/2014  09:00 AM                     128 East 31 St., BK NY;   \n",
      "4  07/01/2014  09:30 AM                139-39 35 Ave., Flushing NY;   \n",
      "\n",
      "                                          DO_Address  \\\n",
      "0                         1 Brookdale Plaza, BK NY;    \n",
      "1  John F Kennedy International Airport, vitona A...   \n",
      "2                        2171 Nostrand Ave., BK NY;    \n",
      "3                              369 93rd St., BK NY;    \n",
      "4                               La Guardia Airport;    \n",
      "\n",
      "                                     Routing Details  \\\n",
      "0  PU: Brooklyn Museum, 200 Eastern Pkwy., BK NY;...   \n",
      "1  PU: 33 Robert Dr., Short Hills NJ; DO: John F ...   \n",
      "2  PU: 60 Glenmore Ave., BK NY; DO: 2171 Nostrand...   \n",
      "3  PU: 128 East 31 St., BK NY; DO: 369 93rd St., ...   \n",
      "4  PU: 139-39 35 Ave., Flushing NY; DO: La Guardi...   \n",
      "\n",
      "                                        PU_Address.1     Status  \n",
      "0  Brooklyn Museum, 200 Eastern Pkwy., BK NY; DO:...  Cancelled  \n",
      "1  33 Robert Dr., Short Hills NJ; DO: John F Kenn...    Arrived  \n",
      "2  60 Glenmore Ave., BK NY; DO: 2171 Nostrand Ave...   Assigned  \n",
      "3  128 East 31 St., BK NY; DO: 369 93rd St., BK NY;    Assigned  \n",
      "4  139-39 35 Ave., Flushing NY; DO: La Guardia Ai...   Assigned  \n"
     ]
    }
   ],
   "source": [
    "# read data into pd\n",
    "import pandas as pd\n",
    "df = pd.read_csv('pu-data/other-Federal_02216.csv')\n",
    "\n",
    "# print the first 5 rows of the dataframe\n",
    "print(df.head())"
   ]
  },
  {
   "cell_type": "code",
   "execution_count": 2,
   "metadata": {},
   "outputs": [
    {
     "name": "stdout",
     "output_type": "stream",
     "text": [
      "(276, 7)\n",
      "Index(['Date', 'Time', 'PU_Address', 'DO_Address', 'Routing Details',\n",
      "       'PU_Address.1', 'Status'],\n",
      "      dtype='object')\n",
      "<class 'pandas.core.frame.DataFrame'>\n",
      "RangeIndex: 276 entries, 0 to 275\n",
      "Data columns (total 7 columns):\n",
      " #   Column           Non-Null Count  Dtype \n",
      "---  ------           --------------  ----- \n",
      " 0   Date             276 non-null    object\n",
      " 1   Time             276 non-null    object\n",
      " 2   PU_Address       269 non-null    object\n",
      " 3   DO_Address       267 non-null    object\n",
      " 4   Routing Details  276 non-null    object\n",
      " 5   PU_Address.1     276 non-null    object\n",
      " 6   Status           276 non-null    object\n",
      "dtypes: object(7)\n",
      "memory usage: 15.2+ KB\n",
      "None\n"
     ]
    }
   ],
   "source": [
    "# print the shape of the dataframe\n",
    "print(df.shape)\n",
    "# print the columns of the dataframe\n",
    "print(df.columns)\n",
    "# print the info of the dataframe\n",
    "print(df.info())"
   ]
  }
 ],
 "metadata": {
  "kernelspec": {
   "display_name": ".venv",
   "language": "python",
   "name": "python3"
  },
  "language_info": {
   "codemirror_mode": {
    "name": "ipython",
    "version": 3
   },
   "file_extension": ".py",
   "mimetype": "text/x-python",
   "name": "python",
   "nbconvert_exporter": "python",
   "pygments_lexer": "ipython3",
   "version": "3.12.7"
  }
 },
 "nbformat": 4,
 "nbformat_minor": 2
}
