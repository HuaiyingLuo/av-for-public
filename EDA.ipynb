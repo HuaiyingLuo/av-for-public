{
 "cells": [
  {
   "cell_type": "code",
   "execution_count": 1,
   "metadata": {},
   "outputs": [
    {
     "name": "stdout",
     "output_type": "stream",
     "text": [
      "    medallion   hack_license  vendor_id   rate_code  store_and_fwd_flag  \\\n",
      "0  2013009441     2013013593        VTS           1                 NaN   \n",
      "1  2013012081     2013019632        VTS           1                 NaN   \n",
      "2  2013006133     2013029678        VTS           1                 NaN   \n",
      "3  2013007864     2013007860        VTS           1                 NaN   \n",
      "4  2013010123     2013010123        VTS           1                 NaN   \n",
      "\n",
      "       pickup_datetime     dropoff_datetime   passenger_count  \\\n",
      "0  2013-06-01 00:00:00  2013-06-01 00:05:00                 1   \n",
      "1  2013-06-01 00:00:00  2013-06-01 00:16:00                 1   \n",
      "2  2013-06-01 00:00:00  2013-06-01 00:10:00                 1   \n",
      "3  2013-06-01 00:00:00  2013-06-01 00:08:00                 1   \n",
      "4  2013-06-01 00:00:00  2013-06-01 00:19:00                 4   \n",
      "\n",
      "    trip_time_in_secs   trip_distance   pickup_longitude   pickup_latitude  \\\n",
      "0                 300            0.74         -73.972008         40.749767   \n",
      "1                 960            3.52         -73.984909         40.779106   \n",
      "2                 600            2.34         -73.992043         40.725639   \n",
      "3                 480            1.63         -73.982071         40.743259   \n",
      "4                1140            5.98         -73.999809         40.732849   \n",
      "\n",
      "    dropoff_longitude   dropoff_latitude  \n",
      "0          -73.968109          40.756382  \n",
      "1          -73.944702          40.803219  \n",
      "2          -73.990120          40.750992  \n",
      "3          -73.990967          40.723995  \n",
      "4          -73.962357          40.800049  \n"
     ]
    }
   ],
   "source": [
    "# read data into pd\n",
    "import pandas as pd\n",
    "df = pd.read_csv('pu-data/trip_data_6.csv')\n",
    "\n",
    "# print the first 5 rows of the dataframe\n",
    "print(df.head())"
   ]
  },
  {
   "cell_type": "code",
   "execution_count": 2,
   "metadata": {},
   "outputs": [
    {
     "name": "stdout",
     "output_type": "stream",
     "text": [
      "(14385456, 14)\n",
      "Index(['medallion', ' hack_license', ' vendor_id', ' rate_code',\n",
      "       ' store_and_fwd_flag', ' pickup_datetime', ' dropoff_datetime',\n",
      "       ' passenger_count', ' trip_time_in_secs', ' trip_distance',\n",
      "       ' pickup_longitude', ' pickup_latitude', ' dropoff_longitude',\n",
      "       ' dropoff_latitude'],\n",
      "      dtype='object')\n",
      "<class 'pandas.core.frame.DataFrame'>\n",
      "RangeIndex: 14385456 entries, 0 to 14385455\n",
      "Data columns (total 14 columns):\n",
      " #   Column               Dtype  \n",
      "---  ------               -----  \n",
      " 0   medallion            int64  \n",
      " 1    hack_license        int64  \n",
      " 2    vendor_id           object \n",
      " 3    rate_code           int64  \n",
      " 4    store_and_fwd_flag  object \n",
      " 5    pickup_datetime     object \n",
      " 6    dropoff_datetime    object \n",
      " 7    passenger_count     int64  \n",
      " 8    trip_time_in_secs   int64  \n",
      " 9    trip_distance       float64\n",
      " 10   pickup_longitude    float64\n",
      " 11   pickup_latitude     float64\n",
      " 12   dropoff_longitude   float64\n",
      " 13   dropoff_latitude    float64\n",
      "dtypes: float64(5), int64(5), object(4)\n",
      "memory usage: 1.5+ GB\n",
      "None\n"
     ]
    }
   ],
   "source": [
    "# print the shape of the dataframe\n",
    "print(df.shape)\n",
    "# print the columns of the dataframe\n",
    "print(df.columns)\n",
    "# print the info of the dataframe\n",
    "print(df.info())"
   ]
  }
 ],
 "metadata": {
  "kernelspec": {
   "display_name": ".venv",
   "language": "python",
   "name": "python3"
  },
  "language_info": {
   "codemirror_mode": {
    "name": "ipython",
    "version": 3
   },
   "file_extension": ".py",
   "mimetype": "text/x-python",
   "name": "python",
   "nbconvert_exporter": "python",
   "pygments_lexer": "ipython3",
   "version": "3.12.7"
  }
 },
 "nbformat": 4,
 "nbformat_minor": 2
}
